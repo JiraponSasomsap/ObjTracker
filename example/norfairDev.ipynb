{
 "cells": [
  {
   "cell_type": "code",
   "execution_count": null,
   "id": "2a6e9a85",
   "metadata": {},
   "outputs": [],
   "source": [
    "import sys\n",
    "sys.path.append('..')\n",
    "\n",
    "from pathlib import Path\n",
    "from ultralytics import YOLO\n",
    "import cv2\n",
    "\n",
    "from tracker import norfairDev\n",
    "from utils import utils"
   ]
  },
  {
   "cell_type": "markdown",
   "id": "58705345",
   "metadata": {},
   "source": [
    "# NorfairDev Example"
   ]
  },
  {
   "cell_type": "code",
   "execution_count": null,
   "id": "cc70d0fe",
   "metadata": {},
   "outputs": [],
   "source": [
    "# inherited norfairDevTracker\n",
    "class ExampleTracker(norfairDev.norfairDevTracker):\n",
    "    def __init__(self, distance_function, distance_threshold, hit_counter_max=15, initialization_delay=None, pointwise_hit_counter_max=4, detection_threshold=0, filter_factory = None, past_detections_length=4, reid_distance_function=None, reid_distance_threshold=0, reid_hit_counter_max=None):\n",
    "        super().__init__(distance_function, distance_threshold, hit_counter_max, initialization_delay, pointwise_hit_counter_max, detection_threshold, filter_factory, past_detections_length, reid_distance_function, reid_distance_threshold, reid_hit_counter_max)"
   ]
  },
  {
   "cell_type": "code",
   "execution_count": null,
   "id": "18f9648c",
   "metadata": {},
   "outputs": [],
   "source": [
    "# inherited norfairDevTracker\n",
    "class ExampleTrackedObject(norfairDev.norfairDevTrackedObject):\n",
    "    def __init__(self, obj_factory, initial_detection, hit_counter_max, initialization_delay, pointwise_hit_counter_max, detection_threshold, period, filter_factory, past_detections_length, reid_hit_counter_max, coord_transformations=None):\n",
    "        super().__init__(obj_factory, initial_detection, hit_counter_max, initialization_delay, pointwise_hit_counter_max, detection_threshold, period, filter_factory, past_detections_length, reid_hit_counter_max, coord_transformations)"
   ]
  },
  {
   "cell_type": "code",
   "execution_count": null,
   "id": "e633a058",
   "metadata": {},
   "outputs": [],
   "source": [
    "# initialization tracker\n",
    "import numpy as np\n",
    "example_tracker = ExampleTracker(\n",
    "    initialization_delay=1,\n",
    "    distance_function=\"euclidean\",\n",
    "    distance_threshold=100,\n",
    ").set_tracker(\n",
    "    custom_tracked_object=ExampleTrackedObject, # custom TrackedObject\n",
    "    color_mapping_keys={\n",
    "        'roi':(0,255,0),\n",
    "        'roni':(0,0,255)\n",
    "    },\n",
    "    roni1 = np.array(\n",
    "        [[0.05943691345151199, 0.4044526901669759], [0.03441084462982273, 0.7161410018552876], [0.0364963503649635, 0.9981447124304267], [0.7935349322210636, 0.9981447124304267], [0.2846715328467153, 0.849721706864564], [0.23670490093847757, 0.8645640074211502], [0.21793534932221065, 0.8181818181818182]]\n",
    "    ),\n",
    "    roni2 = np.array(\n",
    "        [[0.8060479666319083, 0.3339517625231911], [0.748696558915537, 0.31539888682745826], [0.6934306569343066, 0.601113172541744], [0.9979144942648592, 0.7532467532467533], [0.9874869655891554, 0.38961038961038963]]\n",
    "    )\n",
    ")"
   ]
  },
  {
   "cell_type": "code",
   "execution_count": null,
   "id": "4a4f7ee0",
   "metadata": {},
   "outputs": [],
   "source": [
    "video_path = Path(r'C:\\Users\\articulusaitraining\\projects\\ptg\\punthai\\videos\\29\\D01_20250529063837_re-encode.mp4')\n",
    "model_path = Path(r'C:\\Users\\articulusaitraining\\projects\\ptg\\punthai\\weights\\v1x_PunthaiChaengWatthana_freeze10.pt')\n",
    "model=YOLO(model_path)"
   ]
  },
  {
   "cell_type": "code",
   "execution_count": null,
   "id": "d5245c82",
   "metadata": {},
   "outputs": [],
   "source": [
    "cap=cv2.VideoCapture(video_path)\n",
    "\n",
    "draw = norfairDev.BaseDrawer()\n",
    "\n",
    "try:\n",
    "    while cap.isOpened():\n",
    "        ret, frame = cap.read()\n",
    "        if ret: \n",
    "            result = model.predict(frame, verbose=False)[0]\n",
    "            points = result.boxes.xywh.cpu()[:, :2]\n",
    "            boxes = result.boxes.xyxy.cpu()\n",
    "            example_tracker.update_detections(points=points, data=utils.conv2dataDict(boxes=boxes))\n",
    "        \n",
    "            # image = draw.draw_roi(img=frame, tracker_results=example_tracker)\n",
    "            # or\n",
    "            # image = example_tracker.Drawer.draw_roi(img=frame)\n",
    "\n",
    "            image = draw.draw_roi(img=frame, tracker_results=example_tracker)\n",
    "            \n",
    "            cv2.imshow('plot', image)\n",
    "            if cv2.waitKey(1) & 0xFF == ord('q'):\n",
    "                break\n",
    "finally:\n",
    "    cap.release()\n",
    "    cv2.destroyAllWindows()"
   ]
  },
  {
   "cell_type": "code",
   "execution_count": null,
   "id": "a679af06",
   "metadata": {},
   "outputs": [],
   "source": []
  }
 ],
 "metadata": {
  "kernelspec": {
   "display_name": "panthai",
   "language": "python",
   "name": "python3"
  },
  "language_info": {
   "codemirror_mode": {
    "name": "ipython",
    "version": 3
   },
   "file_extension": ".py",
   "mimetype": "text/x-python",
   "name": "python",
   "nbconvert_exporter": "python",
   "pygments_lexer": "ipython3",
   "version": "3.12.9"
  }
 },
 "nbformat": 4,
 "nbformat_minor": 5
}
